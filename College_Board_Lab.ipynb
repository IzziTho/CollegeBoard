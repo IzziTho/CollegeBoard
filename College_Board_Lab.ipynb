{
 "cells": [
  {
   "cell_type": "code",
   "execution_count": 81,
   "metadata": {},
   "outputs": [],
   "source": [
    "import pandas as pd\n",
    "import numpy as np\n",
    "import matplotlib.pyplot as plt\n",
    "\n",
    "# I have chosen to look at NEVADA as my home state.\n",
    "\n",
    "home_state = 'Nevada'\n",
    "\n",
    "sat_2019 = pd.read_csv('sat_2019.csv', index_col='State') # no nulls in csv\n",
    "sat_by_major_2019 = pd.read_csv('sat_2019_by_intended_college_major.csv')\n",
    "sat_2018 = pd.read_csv('sat_2018.csv', index_col='State')\n",
    "sat_2017 = pd.read_csv('sat_2017.csv', index_col='State')\n",
    "\n",
    "# CLEANING SAT_2019 DATASET\n",
    "# Remove Puerto Rico and Virgin Islands as they were not included in previous years' data.\n",
    "sat_2019 = sat_2019.drop('Puerto Rico')\n",
    "sat_2019 = sat_2019.drop('Virgin Islands')\n",
    "# Strip the % sign from the Participation Rate column\n",
    "def strip_percent_sign (str, axis=1):\n",
    "    return str.replace(\"%\", \"\")\n",
    "    \n",
    "sat_2019['Participation Rate'] = sat_2019['Participation Rate'].apply(strip_percent_sign)\n",
    "# Convert Participation Rate column values into integer \n",
    "sat_2019 = sat_2019.astype({'Participation Rate':'int'})\n",
    "# Rename columns to match dataframe name\n",
    "sat_2019.rename(columns = {'Participation Rate':'Participation Rate (%) 2019','EBRW':'Average EBRW Score 2019','Math':'Average Math Score 2019','Total':'Average Total Score 2019'}, inplace=True)\n",
    "\n",
    "\n",
    "# CLEANING SAT_BY_MAJOR_2019 DATASET\n",
    "# Strip the ',' from the Test Takers column\n",
    "def strip_comma(str, axis=1):\n",
    "    return str.replace(\",\", \"\")\n",
    "    \n",
    "sat_by_major_2019['TestTakers'] = sat_by_major_2019['TestTakers'].apply(strip_comma)\n",
    "# Convert TestTakers column values into integer \n",
    "sat_by_major_2019 = sat_by_major_2019.astype({'TestTakers':'int'})\n",
    "# Strip the '%' sign from the Percent column\n",
    "sat_by_major_2019['Percent'] = sat_by_major_2019['Percent'].apply(strip_percent_sign)\n",
    "# Convert Percent column values into integer \n",
    "sat_by_major_2019 = sat_by_major_2019.astype({'Percent':'int'})\n",
    "# Rename columns to make dataframe clearer\n",
    "sat_by_major_2019.rename(columns = {'IntendedCollegeMajor':'Intended College Major','Percent':'Percent of Total TestTakers Choosing Major', 'Total':'Average Total SAT Score of Those Choosing Major' ,'ReadingWriting':'Average EBRW Score of Those Choosing Major', 'Math':'Average Math Score of Those Choosing Major'}, inplace=True)\n",
    "\n",
    "\n",
    "# CLEANING SAT_2018 DATASET\n",
    "# Strip the '%' sign from the Percent column\n",
    "sat_2018['Participation'] = sat_2018['Participation'].apply(strip_percent_sign)\n",
    "# Convert Participation column values into integer \n",
    "sat_2018 = sat_2018.astype({'Participation':'int'})\n",
    "# Rename columns to match other datasets\n",
    "sat_2018.rename(columns = {'Participation':'Participation Rate (%) 2018', 'Evidence-Based Reading and Writing':'Average EBRW Score 2018', 'Math':'Average Math Score 2018', 'Total':'Average Total Score 2018'}, inplace=True)\n",
    "\n",
    "\n",
    "# CLEANING SAT_2017 DATASET\n",
    "# Strip the '%' sign from the Percent column\n",
    "sat_2017['Participation'] = sat_2017['Participation'].apply(strip_percent_sign)\n",
    "# Convert Participation column values into integer \n",
    "sat_2017 = sat_2017.astype({'Participation':'int'})\n",
    "# Rename columns to match other datasets\n",
    "sat_2017.rename(columns = {'Participation':'Participation Rate (%) 2017', 'Evidence-Based Reading and Writing':'Average EBRW Score 2017', 'Math':'Average Math Score 2017', 'Total':'Average Total Score 2017'}, inplace=True)\n",
    "\n",
    "\n",
    "# MERGING SAT_2017, SAT_2018 and SAT_2019\n",
    "sat_17_18 = pd.merge(sat_2017, sat_2018, left_on='State', right_on='State', suffixes=(' 2017', ' 2018'))\n",
    "sat_17_18_19 = pd.merge(sat_17_18, sat_2019, left_on='State', right_on='State') #, suffixes=('', ' 2019')\n"
   ]
  },
  {
   "attachments": {},
   "cell_type": "markdown",
   "metadata": {},
   "source": [
    "How do the states compare to eachother on SATs?\n",
    "Which states have the best/worst SAT scores?\n",
    "Which majors attract the best SAT scorers? \n",
    "\n",
    "\n",
    "How have the SATs changed over time? \n",
    "Look at the correlation between high ACT scores and which major students are applying for\n",
    "\n",
    "Tech Debt\n",
    " - Move the 'Total' column in sat_by_major_2019 to the last column index to match the other datasets\n"
   ]
  },
  {
   "cell_type": "code",
   "execution_count": null,
   "metadata": {},
   "outputs": [],
   "source": [
    "# sat_by_major_2019.head()\n",
    "# sat_2017.head()\n",
    "# sat_2018.head()\n",
    "# sat_2019.head()\n",
    "\n",
    "# sat_17_18_19.head(53)"
   ]
  },
  {
   "cell_type": "code",
   "execution_count": 62,
   "metadata": {},
   "outputs": [
    {
     "name": "stdout",
     "output_type": "stream",
     "text": [
      "The top 5 states for Participation Rates over three years 2017-2019 are Michigan, Connecticut, Delaware, Idaho and Maine\n"
     ]
    },
    {
     "data": {
      "text/html": [
       "<div>\n",
       "<style scoped>\n",
       "    .dataframe tbody tr th:only-of-type {\n",
       "        vertical-align: middle;\n",
       "    }\n",
       "\n",
       "    .dataframe tbody tr th {\n",
       "        vertical-align: top;\n",
       "    }\n",
       "\n",
       "    .dataframe thead th {\n",
       "        text-align: right;\n",
       "    }\n",
       "</style>\n",
       "<table border=\"1\" class=\"dataframe\">\n",
       "  <thead>\n",
       "    <tr style=\"text-align: right;\">\n",
       "      <th></th>\n",
       "      <th>Participation Rate (%) 2017</th>\n",
       "      <th>Participation Rate (%) 2018</th>\n",
       "      <th>Participation Rate (%) 2019</th>\n",
       "      <th>Average Participation Rate Over 3 Years</th>\n",
       "    </tr>\n",
       "    <tr>\n",
       "      <th>State</th>\n",
       "      <th></th>\n",
       "      <th></th>\n",
       "      <th></th>\n",
       "      <th></th>\n",
       "    </tr>\n",
       "  </thead>\n",
       "  <tbody>\n",
       "    <tr>\n",
       "      <th>Michigan</th>\n",
       "      <td>100</td>\n",
       "      <td>100</td>\n",
       "      <td>100</td>\n",
       "      <td>100</td>\n",
       "    </tr>\n",
       "    <tr>\n",
       "      <th>Connecticut</th>\n",
       "      <td>100</td>\n",
       "      <td>100</td>\n",
       "      <td>100</td>\n",
       "      <td>100</td>\n",
       "    </tr>\n",
       "    <tr>\n",
       "      <th>Delaware</th>\n",
       "      <td>100</td>\n",
       "      <td>100</td>\n",
       "      <td>100</td>\n",
       "      <td>100</td>\n",
       "    </tr>\n",
       "    <tr>\n",
       "      <th>Idaho</th>\n",
       "      <td>93</td>\n",
       "      <td>100</td>\n",
       "      <td>100</td>\n",
       "      <td>97</td>\n",
       "    </tr>\n",
       "    <tr>\n",
       "      <th>Maine</th>\n",
       "      <td>95</td>\n",
       "      <td>99</td>\n",
       "      <td>99</td>\n",
       "      <td>97</td>\n",
       "    </tr>\n",
       "  </tbody>\n",
       "</table>\n",
       "</div>"
      ],
      "text/plain": [
       "             Participation Rate (%) 2017  Participation Rate (%) 2018  \\\n",
       "State                                                                   \n",
       "Michigan                             100                          100   \n",
       "Connecticut                          100                          100   \n",
       "Delaware                             100                          100   \n",
       "Idaho                                 93                          100   \n",
       "Maine                                 95                           99   \n",
       "\n",
       "             Participation Rate (%) 2019  \\\n",
       "State                                      \n",
       "Michigan                             100   \n",
       "Connecticut                          100   \n",
       "Delaware                             100   \n",
       "Idaho                                100   \n",
       "Maine                                 99   \n",
       "\n",
       "             Average Participation Rate Over 3 Years  \n",
       "State                                                 \n",
       "Michigan                                         100  \n",
       "Connecticut                                      100  \n",
       "Delaware                                         100  \n",
       "Idaho                                             97  \n",
       "Maine                                             97  "
      ]
     },
     "execution_count": 62,
     "metadata": {},
     "output_type": "execute_result"
    }
   ],
   "source": [
    "# Creating a new dataframe containing the Participation Rates per year\n",
    "sat_17_18_19_participation = sat_17_18_19[['Participation Rate (%) 2017', 'Participation Rate (%) 2018', 'Participation Rate (%) 2019']].copy()\n",
    "# function to find the average Total Score over 3 years of each state\n",
    "def three_year_participation_score(row):\n",
    "    return int((row['Participation Rate (%) 2017'] + row['Participation Rate (%) 2018'] + row['Participation Rate (%) 2019'])/3)\n",
    "\n",
    "sat_17_18_19_participation['Average Participation Rate Over 3 Years'] = sat_17_18_19_participation.apply(three_year_participation_score, axis=1)\n",
    "# sort values and print statement \n",
    "sat_17_18_19_participation.sort_values('Average Participation Rate Over 3 Years', ascending=False, inplace=True)\n",
    "print(f'The top 5 states for Participation Rates over three years 2017-2019 are {sat_17_18_19_participation.index[0]}, {sat_17_18_19_participation.index[1]}, {sat_17_18_19_participation.index[2]}, {sat_17_18_19_participation.index[3]} and {sat_17_18_19_participation.index[4]}')\n",
    "sat_17_18_19_participation.head(5)"
   ]
  },
  {
   "cell_type": "code",
   "execution_count": 63,
   "metadata": {},
   "outputs": [
    {
     "name": "stdout",
     "output_type": "stream",
     "text": [
      "The top 5 performing states over three years 2017-2019 are Minnesota, Wisconsin, North Dakota, Iowa and Missouri\n"
     ]
    },
    {
     "data": {
      "text/html": [
       "<div>\n",
       "<style scoped>\n",
       "    .dataframe tbody tr th:only-of-type {\n",
       "        vertical-align: middle;\n",
       "    }\n",
       "\n",
       "    .dataframe tbody tr th {\n",
       "        vertical-align: top;\n",
       "    }\n",
       "\n",
       "    .dataframe thead th {\n",
       "        text-align: right;\n",
       "    }\n",
       "</style>\n",
       "<table border=\"1\" class=\"dataframe\">\n",
       "  <thead>\n",
       "    <tr style=\"text-align: right;\">\n",
       "      <th></th>\n",
       "      <th>Average Total Score 2017</th>\n",
       "      <th>Average Total Score 2018</th>\n",
       "      <th>Average Total Score 2019</th>\n",
       "      <th>Average Total Score Over 3 Years</th>\n",
       "    </tr>\n",
       "    <tr>\n",
       "      <th>State</th>\n",
       "      <th></th>\n",
       "      <th></th>\n",
       "      <th></th>\n",
       "      <th></th>\n",
       "    </tr>\n",
       "  </thead>\n",
       "  <tbody>\n",
       "    <tr>\n",
       "      <th>Minnesota</th>\n",
       "      <td>1295</td>\n",
       "      <td>1298</td>\n",
       "      <td>1284</td>\n",
       "      <td>1292</td>\n",
       "    </tr>\n",
       "    <tr>\n",
       "      <th>Wisconsin</th>\n",
       "      <td>1291</td>\n",
       "      <td>1294</td>\n",
       "      <td>1283</td>\n",
       "      <td>1289</td>\n",
       "    </tr>\n",
       "    <tr>\n",
       "      <th>North Dakota</th>\n",
       "      <td>1256</td>\n",
       "      <td>1283</td>\n",
       "      <td>1263</td>\n",
       "      <td>1267</td>\n",
       "    </tr>\n",
       "    <tr>\n",
       "      <th>Iowa</th>\n",
       "      <td>1275</td>\n",
       "      <td>1265</td>\n",
       "      <td>1244</td>\n",
       "      <td>1261</td>\n",
       "    </tr>\n",
       "    <tr>\n",
       "      <th>Missouri</th>\n",
       "      <td>1271</td>\n",
       "      <td>1262</td>\n",
       "      <td>1236</td>\n",
       "      <td>1256</td>\n",
       "    </tr>\n",
       "  </tbody>\n",
       "</table>\n",
       "</div>"
      ],
      "text/plain": [
       "              Average Total Score 2017  Average Total Score 2018  \\\n",
       "State                                                              \n",
       "Minnesota                         1295                      1298   \n",
       "Wisconsin                         1291                      1294   \n",
       "North Dakota                      1256                      1283   \n",
       "Iowa                              1275                      1265   \n",
       "Missouri                          1271                      1262   \n",
       "\n",
       "              Average Total Score 2019  Average Total Score Over 3 Years  \n",
       "State                                                                     \n",
       "Minnesota                         1284                              1292  \n",
       "Wisconsin                         1283                              1289  \n",
       "North Dakota                      1263                              1267  \n",
       "Iowa                              1244                              1261  \n",
       "Missouri                          1236                              1256  "
      ]
     },
     "execution_count": 63,
     "metadata": {},
     "output_type": "execute_result"
    }
   ],
   "source": [
    "# What were the top 5 performing states in years 2017-2019, based on Average Total Score? \n",
    "\n",
    "# Creating a new dataframe containing the Average Total Score per year\n",
    "sat_17_18_19_totals = sat_17_18_19[['Average Total Score 2017', 'Average Total Score 2018', 'Average Total Score 2019']].copy()\n",
    "# function to find the average Total Score over 3 years of each state\n",
    "def three_year_total_score(row):\n",
    "    return int((row['Average Total Score 2017'] + row['Average Total Score 2018'] + row['Average Total Score 2019'])/3)\n",
    "\n",
    "sat_17_18_19_totals['Average Total Score Over 3 Years'] = sat_17_18_19_totals.apply(three_year_total_score, axis=1)\n",
    "# sort values and print statement \n",
    "sat_17_18_19_totals.sort_values('Average Total Score Over 3 Years', ascending=False, inplace=True)\n",
    "print(f'The top 5 performing states over three years 2017-2019 are {sat_17_18_19_totals.index[0]}, {sat_17_18_19_totals.index[1]}, {sat_17_18_19_totals.index[2]}, {sat_17_18_19_totals.index[3]} and {sat_17_18_19_totals.index[4]}')\n",
    "sat_17_18_19_totals.head(5)"
   ]
  },
  {
   "cell_type": "code",
   "execution_count": 64,
   "metadata": {},
   "outputs": [
    {
     "name": "stdout",
     "output_type": "stream",
     "text": [
      "The top 5 performing states over three years 2017-2019 are District of Columbia, Delaware, Idaho, Michigan and West Virginia\n"
     ]
    },
    {
     "data": {
      "text/html": [
       "<div>\n",
       "<style scoped>\n",
       "    .dataframe tbody tr th:only-of-type {\n",
       "        vertical-align: middle;\n",
       "    }\n",
       "\n",
       "    .dataframe tbody tr th {\n",
       "        vertical-align: top;\n",
       "    }\n",
       "\n",
       "    .dataframe thead th {\n",
       "        text-align: right;\n",
       "    }\n",
       "</style>\n",
       "<table border=\"1\" class=\"dataframe\">\n",
       "  <thead>\n",
       "    <tr style=\"text-align: right;\">\n",
       "      <th></th>\n",
       "      <th>Average Total Score 2017</th>\n",
       "      <th>Average Total Score 2018</th>\n",
       "      <th>Average Total Score 2019</th>\n",
       "      <th>Average Total Score Over 3 Years</th>\n",
       "    </tr>\n",
       "    <tr>\n",
       "      <th>State</th>\n",
       "      <th></th>\n",
       "      <th></th>\n",
       "      <th></th>\n",
       "      <th></th>\n",
       "    </tr>\n",
       "  </thead>\n",
       "  <tbody>\n",
       "    <tr>\n",
       "      <th>District of Columbia</th>\n",
       "      <td>950</td>\n",
       "      <td>977</td>\n",
       "      <td>975</td>\n",
       "      <td>967</td>\n",
       "    </tr>\n",
       "    <tr>\n",
       "      <th>Delaware</th>\n",
       "      <td>996</td>\n",
       "      <td>998</td>\n",
       "      <td>985</td>\n",
       "      <td>993</td>\n",
       "    </tr>\n",
       "    <tr>\n",
       "      <th>Idaho</th>\n",
       "      <td>1005</td>\n",
       "      <td>1001</td>\n",
       "      <td>993</td>\n",
       "      <td>999</td>\n",
       "    </tr>\n",
       "    <tr>\n",
       "      <th>Michigan</th>\n",
       "      <td>1005</td>\n",
       "      <td>1011</td>\n",
       "      <td>1003</td>\n",
       "      <td>1006</td>\n",
       "    </tr>\n",
       "    <tr>\n",
       "      <th>West Virginia</th>\n",
       "      <td>1086</td>\n",
       "      <td>999</td>\n",
       "      <td>943</td>\n",
       "      <td>1009</td>\n",
       "    </tr>\n",
       "  </tbody>\n",
       "</table>\n",
       "</div>"
      ],
      "text/plain": [
       "                      Average Total Score 2017  Average Total Score 2018  \\\n",
       "State                                                                      \n",
       "District of Columbia                       950                       977   \n",
       "Delaware                                   996                       998   \n",
       "Idaho                                     1005                      1001   \n",
       "Michigan                                  1005                      1011   \n",
       "West Virginia                             1086                       999   \n",
       "\n",
       "                      Average Total Score 2019  \\\n",
       "State                                            \n",
       "District of Columbia                       975   \n",
       "Delaware                                   985   \n",
       "Idaho                                      993   \n",
       "Michigan                                  1003   \n",
       "West Virginia                              943   \n",
       "\n",
       "                      Average Total Score Over 3 Years  \n",
       "State                                                   \n",
       "District of Columbia                               967  \n",
       "Delaware                                           993  \n",
       "Idaho                                              999  \n",
       "Michigan                                          1006  \n",
       "West Virginia                                     1009  "
      ]
     },
     "execution_count": 64,
     "metadata": {},
     "output_type": "execute_result"
    }
   ],
   "source": [
    "# What were the bottom 5 performing states in years 2017-2019, based on Average Total Score? \n",
    "\n",
    "# sort values and print statement \n",
    "sat_17_18_19_totals.sort_values('Average Total Score Over 3 Years', ascending=True, inplace=True)\n",
    "print(f'The top 5 performing states over three years 2017-2019 are {sat_17_18_19_totals.index[0]}, {sat_17_18_19_totals.index[1]}, {sat_17_18_19_totals.index[2]}, {sat_17_18_19_totals.index[3]} and {sat_17_18_19_totals.index[4]}')\n",
    "sat_17_18_19_totals.head(5)"
   ]
  },
  {
   "cell_type": "code",
   "execution_count": 100,
   "metadata": {},
   "outputs": [
    {
     "data": {
      "image/png": "[encoded data removed]",
      "text/plain": [
       "<Figure size 648x504 with 1 Axes>"
      ]
     },
     "metadata": {
      "needs_background": "light"
     },
     "output_type": "display_data"
    },
    {
     "data": {
      "image/png": "[encoded data removed]",
      "text/plain": [
       "<Figure size 648x504 with 1 Axes>"
      ]
     },
     "metadata": {
      "needs_background": "light"
     },
     "output_type": "display_data"
    },
    {
     "data": {
      "image/png": "[encoded data removed]",
      "text/plain": [
       "<Figure size 648x504 with 1 Axes>"
      ]
     },
     "metadata": {
      "needs_background": "light"
     },
     "output_type": "display_data"
    }
   ],
   "source": [
    "# Show the correlation between low participation rates, and right average total score for each year.\n",
    "sat_participation_totalscore = pd.merge(sat_17_18_19_participation, sat_17_18_19_totals, left_on='State', right_on='State')\n",
    "\n",
    "sat_participation_totalscore.plot.scatter(x='Participation Rate (%) 2017', y= 'Average Total Score 2017', figsize=(9,7), title='Graph to show the correlation between Participation Rates and Average Total Score per state in 2017');\n",
    "sat_participation_totalscore.plot.scatter(x='Participation Rate (%) 2018', y= 'Average Total Score 2018', figsize=(9,7), c='green', title='Graph to show the correlation between Participation Rates and Average Total Score per state in 2018');\n",
    "sat_participation_totalscore.plot.scatter(x='Participation Rate (%) 2019', y= 'Average Total Score 2019', figsize=(9,7), c='red', title='Graph to show the correlation between Participation Rates and Average Total Score per state in 2019');\n",
    "\n",
    "# There is a very faint correlation between Participation Rate and Average Total Score each year, with the correlation being strongest in 2017"
   ]
  },
  {
   "cell_type": "code",
   "execution_count": 93,
   "metadata": {},
   "outputs": [
    {
     "name": "stdout",
     "output_type": "stream",
     "text": [
      "The mean Participation Rate in 2017 was 39. The Partipation Rate for Nevada in 2017 was 26\n",
      "The mean Participation Rate in 2018 was 45. The Partipation Rate for Nevada in 2018 was 23\n",
      "The mean Participation Rate in 2019 was 49. The Partipation Rate for Nevada in 2019 was 20\n",
      "While the Participation Rate for the whole of the US has increased over the years from 2017 to 2019, the Participation Rate for Nevada has decreased by -6%.\n"
     ]
    }
   ],
   "source": [
    "# Participation Rates for 2017\n",
    "sat_2017_mean_participation = int(sat_participation_totalscore['Participation Rate (%) 2017'].mean())\n",
    "sat_2017_mean_participation\n",
    "homestate_2017_participation = sat_17_18_19_participation.loc['Nevada', 'Participation Rate (%) 2017']\n",
    "\n",
    "# Participation Rates for 2018\n",
    "sat_2018_mean_participation = int(sat_participation_totalscore['Participation Rate (%) 2018'].mean())\n",
    "sat_2018_mean_participation\n",
    "homestate_2018_participation = sat_17_18_19_participation.loc['Nevada', 'Participation Rate (%) 2018']\n",
    "\n",
    "# Participation Rates for 2019\n",
    "sat_2019_mean_participation = int(sat_participation_totalscore['Participation Rate (%) 2019'].mean())\n",
    "sat_2019_mean_participation\n",
    "homestate_2019_participation = sat_17_18_19_participation.loc['Nevada', 'Participation Rate (%) 2019']\n",
    "\n",
    "print(f'The mean Participation Rate in 2017 was {sat_2017_mean_participation}. The Partipation Rate for {home_state} in 2017 was {homestate_2017_participation}')\n",
    "print(f'The mean Participation Rate in 2018 was {sat_2018_mean_participation}. The Partipation Rate for {home_state} in 2018 was {homestate_2018_participation}')\n",
    "print(f'The mean Participation Rate in 2019 was {sat_2019_mean_participation}. The Partipation Rate for {home_state} in 2019 was {homestate_2019_participation}')\n",
    "\n",
    "print(f'While the Participation Rate for the whole of the US has increased over the years from 2017 to 2019, the Participation Rate for {home_state} has decreased by {int(homestate_2019_participation - homestate_2017_participation)}%.')"
   ]
  },
  {
   "cell_type": "code",
   "execution_count": 102,
   "metadata": {},
   "outputs": [
    {
     "data": {
      "image/png": "[encoded data removed]",
      "text/plain": [
       "<Figure size 432x288 with 1 Axes>"
      ]
     },
     "metadata": {
      "needs_background": "light"
     },
     "output_type": "display_data"
    }
   ],
   "source": [
    "participation_rates = {\n",
    "    '2017 Participation Rate (%)':[sat_2017_mean_participation, homestate_2017_participation],\n",
    "    '2018 Participation Rate (%)':[sat_2018_mean_participation, homestate_2018_participation],\n",
    "    '2019 Participation Rate (%)':[sat_2019_mean_participation, homestate_2019_participation],\n",
    "}\n",
    "index_labels = ['Whole of the US', 'Nevada']\n",
    "\n",
    "participation_df = pd.DataFrame(participation_rates, index=index_labels)\n",
    "participation_df.plot(kind='bar', ylabel='Participation Rate (%)', title='Graph to show the average Participation Rate each year for Nevada compared to the Whole of the US');"
   ]
  },
  {
   "cell_type": "code",
   "execution_count": null,
   "metadata": {},
   "outputs": [],
   "source": []
  },
  {
   "cell_type": "code",
   "execution_count": null,
   "metadata": {},
   "outputs": [],
   "source": []
  }
 ],
 "metadata": {
  "kernelspec": {
   "display_name": "Python 3",
   "language": "python",
   "name": "python3"
  },
  "language_info": {
   "codemirror_mode": {
    "name": "ipython",
    "version": 3
   },
   "file_extension": ".py",
   "mimetype": "text/x-python",
   "name": "python",
   "nbconvert_exporter": "python",
   "pygments_lexer": "ipython3",
   "version": "3.6.5"
  },
  "orig_nbformat": 4
 },
 "nbformat": 4,
 "nbformat_minor": 2
}
