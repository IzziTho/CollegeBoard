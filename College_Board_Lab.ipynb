{
 "cells": [
  {
   "cell_type": "code",
   "execution_count": null,
   "metadata": {},
   "outputs": [],
   "source": [
    "import pandas as pd\n",
    "import numpy as np\n",
    "import matplotlib as plt\n",
    "\n",
    "sat_2019 = pd.read_csv('sat_2019.csv', index_col='State') # no nulls in csv\n",
    "sat_by_major_2019 = pd.read_csv('sat_2019_by_intended_college_major.csv')\n",
    "sat_2018 = pd.read_csv('sat_2018.csv', index_col='State')\n",
    "sat_2017 = pd.read_csv('sat_2017.csv', index_col='State')"
   ]
  },
  {
   "attachments": {},
   "cell_type": "markdown",
   "metadata": {},
   "source": [
    "How do the states compare to eachother on SATs?\n",
    "Which states have the best/worst SAT scores?\n",
    "Which majors attract the best SAT scorers? \n",
    "\n",
    "\n",
    "How have the SATs changed over time? \n",
    "Look at the correlation between high ACT scores and which major students are applying for\n",
    "\n",
    "Tech Debt\n",
    " - Move the 'Total' column in sat_by_major_2019 to the last column index to match the other datasets\n"
   ]
  },
  {
   "cell_type": "code",
   "execution_count": null,
   "metadata": {},
   "outputs": [],
   "source": [
    "# CLEANING SAT_2019 DATASET\n",
    "\n",
    "# Remove Puerto Rico and Virgin Islands as they were not included in previous year's data.\n",
    "sat_2019 = sat_2019.drop('Puerto Rico')\n",
    "sat_2019 = sat_2019.drop('Virgin Islands')\n",
    "\n",
    "# Strip the % sign from the Participation Rate column\n",
    "def strip_percent_sign (str, axis=1):\n",
    "    return str.replace(\"%\", \"\")\n",
    "    \n",
    "sat_2019['Participation Rate'] = sat_2019['Participation Rate'].apply(strip_percent_sign)\n",
    "\n",
    "# Convert Participation Rate column values into integer \n",
    "sat_2019 = sat_2019.astype({'Participation Rate':'int'})\n",
    "\n",
    "# Rename columns to match dataframe name\n",
    "sat_2019.rename(columns = {'Participation Rate':'Participation Rate (%) 2019','EBRW':'Average EBRW Score 2019','Math':'Average Math Score 2019','Total':'Average Total Score 2019'}, inplace=True)\n",
    "\n",
    "# sat_2019.head()"
   ]
  },
  {
   "cell_type": "code",
   "execution_count": null,
   "metadata": {},
   "outputs": [],
   "source": [
    "# CLEANING SAT_BY_MAJOR_2019 DATASET\n",
    "\n",
    "# Strip the ',' from the Test Takers column\n",
    "def strip_comma(str, axis=1):\n",
    "    return str.replace(\",\", \"\")\n",
    "    \n",
    "sat_by_major_2019['TestTakers'] = sat_by_major_2019['TestTakers'].apply(strip_comma)\n",
    "\n",
    "# Convert TestTakers column values into integer \n",
    "sat_by_major_2019 = sat_by_major_2019.astype({'TestTakers':'int'})\n",
    "\n",
    "# Strip the '%' sign from the Percent column\n",
    "sat_by_major_2019['Percent'] = sat_by_major_2019['Percent'].apply(strip_percent_sign)\n",
    "\n",
    "# Convert Percent column values into integer \n",
    "sat_by_major_2019 = sat_by_major_2019.astype({'Percent':'int'})\n",
    "\n",
    "# Rename columns to make dataframe clearer\n",
    "sat_by_major_2019.rename(columns = {'IntendedCollegeMajor':'Intended College Major','Percent':'Percent of Total TestTakers Choosing Major', 'Total':'Average Total SAT Score of Those Choosing Major' ,'ReadingWriting':'Average EBRW Score of Those Choosing Major', 'Math':'Average Math Score of Those Choosing Major'}, inplace=True)\n",
    "\n",
    "# sat_by_major_2019.head()"
   ]
  },
  {
   "cell_type": "code",
   "execution_count": null,
   "metadata": {},
   "outputs": [],
   "source": [
    "# CLEANING SAT_2018 DATASET\n",
    "\n",
    "# Strip the '%' sign from the Percent column\n",
    "sat_2018['Participation'] = sat_2018['Participation'].apply(strip_percent_sign)\n",
    "\n",
    "# Convert Participation column values into integer \n",
    "sat_2018 = sat_2018.astype({'Participation':'int'})\n",
    "\n",
    "# Rename columns to match other datasets\n",
    "sat_2018.rename(columns = {'Participation':'Participation Rate (%) 2018', 'Evidence-Based Reading and Writing':'Average EBRW Score 2018', 'Math':'Average Math Score 2018', 'Total':'Average Total Score 2018'}, inplace=True)\n",
    "\n",
    "# sat_2018.head()"
   ]
  },
  {
   "cell_type": "code",
   "execution_count": null,
   "metadata": {},
   "outputs": [],
   "source": []
  },
  {
   "cell_type": "code",
   "execution_count": null,
   "metadata": {},
   "outputs": [],
   "source": [
    "# CLEANING SAT_2017 DATASET\n",
    "\n",
    "# Strip the '%' sign from the Percent column\n",
    "sat_2017['Participation'] = sat_2017['Participation'].apply(strip_percent_sign)\n",
    "\n",
    "# Convert Participation column values into integer \n",
    "sat_2017 = sat_2017.astype({'Participation':'int'})\n",
    "\n",
    "# Rename columns to match other datasets\n",
    "sat_2017.rename(columns = {'Participation':'Participation Rate (%) 2017', 'Evidence-Based Reading and Writing':'Average EBRW Score 2017', 'Math':'Average Math Score 2017', 'Total':'Average Total Score 2017'}, inplace=True)\n",
    "\n",
    "# sat_2017.head()"
   ]
  },
  {
   "cell_type": "code",
   "execution_count": null,
   "metadata": {},
   "outputs": [],
   "source": [
    "# MERGING SAT_2017, SAT_2018 and SAT_2019\n",
    "\n",
    "sat_17_18 = pd.merge(sat_2017, sat_2018, left_on='State', right_on='State', suffixes=(' 2017', ' 2018'))\n",
    "\n",
    "sat_17_18_19 = pd.merge(sat_17_18, sat_2019, left_on='State', right_on='State') #, suffixes=('', ' 2019')\n",
    "\n",
    "sat_17_18_19.head(52)\n",
    "# sat_17_18_19.info()"
   ]
  },
  {
   "cell_type": "code",
   "execution_count": null,
   "metadata": {},
   "outputs": [],
   "source": []
  },
  {
   "cell_type": "code",
   "execution_count": null,
   "metadata": {},
   "outputs": [],
   "source": []
  },
  {
   "cell_type": "code",
   "execution_count": null,
   "metadata": {},
   "outputs": [],
   "source": []
  },
  {
   "cell_type": "code",
   "execution_count": null,
   "metadata": {},
   "outputs": [],
   "source": []
  },
  {
   "cell_type": "code",
   "execution_count": null,
   "metadata": {},
   "outputs": [],
   "source": []
  }
 ],
 "metadata": {
  "kernelspec": {
   "display_name": "Python 3",
   "language": "python",
   "name": "python3"
  },
  "language_info": {
   "codemirror_mode": {
    "name": "ipython",
    "version": 3
   },
   "file_extension": ".py",
   "mimetype": "text/x-python",
   "name": "python",
   "nbconvert_exporter": "python",
   "pygments_lexer": "ipython3",
   "version": "3.6.5"
  },
  "orig_nbformat": 4
 },
 "nbformat": 4,
 "nbformat_minor": 2
}
